{
 "cells": [
  {
   "cell_type": "markdown",
   "id": "temporal-spank",
   "metadata": {},
   "source": [
    "## Eleições 2022\n",
    "\n",
    "#### Notebook para analisar rapidamente os dados disponibilizados pelo TSE das eleições de 2022\n",
    "\n",
    "Portal de Dados Abertos do TSE: https://dadosabertos.tse.jus.br/"
   ]
  },
  {
   "cell_type": "code",
   "execution_count": 193,
   "id": "d8066b05",
   "metadata": {},
   "outputs": [
    {
     "data": {
      "text/html": [
       "<style>.container { width:100% !important; }</style>"
      ],
      "text/plain": [
       "<IPython.core.display.HTML object>"
      ]
     },
     "metadata": {},
     "output_type": "display_data"
    }
   ],
   "source": [
    "# rodar para deixar as células da largura da janela do navegador\n",
    "from IPython.display import display, HTML\n",
    "display(HTML(\"<style>.container { width:100% !important; }</style>\"))"
   ]
  },
  {
   "cell_type": "code",
   "execution_count": 194,
   "id": "9d7a9374",
   "metadata": {},
   "outputs": [],
   "source": [
    "# imports\n",
    "import pandas as pd\n",
    "import numpy as np\n",
    "import matplotlib.pyplot as plt\n",
    "import matplotlib.dates as mdates\n",
    "sep = ';' # separador do arquivo CSV\n",
    "dec = ',' # separador de decimais\n",
    "enc = 'latin1' # codificação dos caracteres"
   ]
  },
  {
   "cell_type": "code",
   "execution_count": 75,
   "id": "9781ed32",
   "metadata": {},
   "outputs": [],
   "source": [
    "# arquivos CSV\n",
    "f_vot_secao = './tse_2022/votacao_secao_2022_BR/votacao_secao_2022_BR.csv'\n",
    "f_hist_pres_1t = './tse_2022/Historico_Totalizacao_Presidente_BR_1T_2022/Historico_Totalizacao_Presidente_BR_1T_2022.csv'\n",
    "f_hist_pres_2t = './tse_2022/Historico_Totalizacao_Presidente_BR_2T_2022/Historico_Totalizacao_Presidente_BR_2T_2022.csv'\n"
   ]
  },
  {
   "cell_type": "code",
   "execution_count": null,
   "id": "1403db49",
   "metadata": {},
   "outputs": [],
   "source": []
  },
  {
   "cell_type": "markdown",
   "id": "municipal-oregon",
   "metadata": {},
   "source": [
    "### Primeiro turno - Totalização "
   ]
  },
  {
   "cell_type": "code",
   "execution_count": 5,
   "id": "d2f1e99f",
   "metadata": {},
   "outputs": [
    {
     "data": {
      "text/plain": [
       "Index(['DT_TOTALIZACAO     ', 'QT_SECOES_TOTAL', 'QT_APTOS_TOTAL',\n",
       "       'QT_SECOES_TOT', 'QT_SECOES_TOT_ACUMULADO',\n",
       "       'PE_SECOES_TOT_ACUMULADO                      ', 'QT_APTOS_TOT',\n",
       "       'QT_APTOS_TOT_ACUMULADO', 'QT_VOTOS_TOTAL', 'QT_VOTOS_TOTAL_ACUMULADO',\n",
       "       'QT_VOTOS_CONCORRENTES', 'QT_VOTOS_CONCORRENTES_ACUMULADO',\n",
       "       'CIRO_GOMES_QT_VOTOS_TOT', 'CIRO_GOMES_QT_VOTOS_TOT_ACUMULADO',\n",
       "       'CIRO_GOMES_PE_VOTOS_TOT_ACUMULADO            ', 'LULA_QT_VOTOS_TOT',\n",
       "       'LULA_QT_VOTOS_TOT_ACUMULADO',\n",
       "       'LULA_PE_VOTOS_TOT_ACUMULADO                  ',\n",
       "       'PADRE_KELMON_QT_VOTOS_TOT', 'PADRE_KELMON_QT_VOTOS_TOT_ACUMULADO',\n",
       "       'PADRE_KELMON_PE_VOTOS_TOT_ACUMULADO          ',\n",
       "       'SIMONE_TEBET_QT_VOTOS_TOT', 'SIMONE_TEBET_QT_VOTOS_TOT_ACUMULADO',\n",
       "       'SIMONE_TEBET_PE_VOTOS_TOT_ACUMULADO          ', 'VERA_QT_VOTOS_TOT',\n",
       "       'VERA_QT_VOTOS_TOT_ACUMULADO',\n",
       "       'VERA_PE_VOTOS_TOT_ACUMULADO                  ',\n",
       "       'SOFIA_MANZANO_QT_VOTOS_TOT', 'SOFIA_MANZANO_QT_VOTOS_TOT_ACUMULADO',\n",
       "       'SOFIA_MANZANO_PE_VOTOS_TOT_ACUMULADO         ',\n",
       "       'JAIR_BOLSONARO_QT_VOTOS_TOT', 'JAIR_BOLSONARO_QT_VOTOS_TOT_ACUMULADO',\n",
       "       'JAIR_BOLSONARO_PE_VOTOS_TOT_ACUMULADO        ',\n",
       "       'CONSTITUINTE_EYMAEL_QT_VOTOS_TOT',\n",
       "       'CONSTITUINTE_EYMAEL_QT_VOTOS_TOT_ACUMULADO',\n",
       "       'CONSTITUINTE_EYMAEL_PE_VOTOS_TOT_ACUMULADO   ',\n",
       "       'FELIPE_DAVILA_QT_VOTOS_TOT', 'FELIPE_DAVILA_QT_VOTOS_TOT_ACUMULADO',\n",
       "       'FELIPE_DAVILA_PE_VOTOS_TOT_ACUMULADO         ',\n",
       "       'SORAYA_THRONICKE_QT_VOTOS_TOT',\n",
       "       'SORAYA_THRONICKE_QT_VOTOS_TOT_ACUMULADO',\n",
       "       'SORAYA_THRONICKE_PE_VOTOS_TOT_ACUMULADO      ',\n",
       "       'LEO_PERICLES_QT_VOTOS_TOT', 'LEO_PERICLES_QT_VOTOS_TOT_ACUMULADO',\n",
       "       'LEO_PERICLES_PE_VOTOS_TOT_ACUMULADO          ', 'BRANCO_QT_VOTOS_TOT',\n",
       "       'BRANCO_QT_VOTOS_TOT_ACUMULADO',\n",
       "       'BRANCO_PE_VOTOS_TOT_ACUMULADO                ', 'NULO_QT_VOTOS_TOT',\n",
       "       'NULO_QT_VOTOS_TOT_ACUMULADO', 'NULO_PE_VOTOS_TOT_ACUMULADO'],\n",
       "      dtype='object')"
      ]
     },
     "execution_count": 5,
     "metadata": {},
     "output_type": "execute_result"
    }
   ],
   "source": [
    "# dataframe totalização primeiro turno\n",
    "df_tot_1t = pd.read_csv(f_hist_pres_1t, sep=sep, encoding=enc, decimal=dec)\n",
    "df_tot_1t.columns"
   ]
  },
  {
   "cell_type": "code",
   "execution_count": 8,
   "id": "c7e69dcc",
   "metadata": {},
   "outputs": [],
   "source": [
    "df_tot_1t['data_hora'] = pd.to_datetime(df_tot_1t['DT_TOTALIZACAO     '], format='%d/%m/%Y %H:%M:%S') #\n",
    "df_tot_1t.set_index('data_hora', inplace=True)"
   ]
  },
  {
   "cell_type": "code",
   "execution_count": 11,
   "id": "closing-punch",
   "metadata": {},
   "outputs": [
    {
     "data": {
      "text/plain": [
       "Timestamp('2022-10-02 17:04:47')"
      ]
     },
     "execution_count": 11,
     "metadata": {},
     "output_type": "execute_result"
    }
   ],
   "source": [
    "df_tot_1t.index.min()"
   ]
  },
  {
   "cell_type": "code",
   "execution_count": 12,
   "id": "dried-australia",
   "metadata": {},
   "outputs": [
    {
     "data": {
      "text/plain": [
       "Timestamp('2022-10-04 10:27:34')"
      ]
     },
     "execution_count": 12,
     "metadata": {},
     "output_type": "execute_result"
    }
   ],
   "source": [
    "df_tot_1t.index.max()"
   ]
  },
  {
   "cell_type": "code",
   "execution_count": 10,
   "id": "greek-response",
   "metadata": {},
   "outputs": [
    {
     "data": {
      "text/plain": [
       "Timedelta('1 days 17:22:47')"
      ]
     },
     "execution_count": 10,
     "metadata": {},
     "output_type": "execute_result"
    }
   ],
   "source": [
    "df_tot_1t.index.max() - df_tot_1t.index.min()"
   ]
  },
  {
   "cell_type": "code",
   "execution_count": 195,
   "id": "rising-bottle",
   "metadata": {},
   "outputs": [
    {
     "data": {
      "image/png": "[encoded data removed]",
      "text/plain": [
       "<Figure size 1080x576 with 1 Axes>"
      ]
     },
     "metadata": {
      "needs_background": "light"
     },
     "output_type": "display_data"
    }
   ],
   "source": [
    "df = df_tot_1t\n",
    "y1 = 'JAIR_BOLSONARO_PE_VOTOS_TOT_ACUMULADO        '\n",
    "y2 = 'LULA_PE_VOTOS_TOT_ACUMULADO                  '\n",
    "\n",
    "fig, ax = plt.subplots(figsize=(15,8))\n",
    "ax.plot(df.index, df[y1]*100, 'o', label='Bolsonaro')\n",
    "ax.plot(df.index, df[y2]*100, label='Lula')\n",
    "\n",
    "datefmt = mdates.DateFormatter(\"%H:%M\")\n",
    "ax.xaxis.set_major_locator(mdates.HourLocator(interval=1))\n",
    "ax.xaxis.set_major_formatter(datefmt)\n",
    "ax.xaxis.set_tick_params(labelrotation=90)\n",
    "\n",
    "ax.set_title('Eleições 2022 - Primeiro Turno - Porcentagem de votos válidos')\n",
    "ax.legend();"
   ]
  },
  {
   "cell_type": "code",
   "execution_count": 72,
   "id": "expired-collect",
   "metadata": {},
   "outputs": [
    {
     "data": {
      "image/png": "[encoded data removed]",
      "text/plain": [
       "<Figure size 1080x576 with 1 Axes>"
      ]
     },
     "metadata": {
      "needs_background": "light"
     },
     "output_type": "display_data"
    }
   ],
   "source": [
    "df = df_tot_1t\n",
    "y1 = 'JAIR_BOLSONARO_PE_VOTOS_TOT_ACUMULADO        '\n",
    "y2 = 'LULA_PE_VOTOS_TOT_ACUMULADO                  '\n",
    "\n",
    "fig, ax = plt.subplots(figsize=(15,8))\n",
    "ax.plot(df.index, df[y1]*100, label='Bolsonaro')\n",
    "ax.plot(df.index, df[y2]*100, label='Lula')\n",
    "\n",
    "ax.set_xlim([pd.to_datetime('2022-10-02 17:00:00'), pd.to_datetime('2022-10-03 00:10:00')]);\n",
    "datefmt = mdates.DateFormatter(\"%H:%M\")\n",
    "ax.xaxis.set_major_locator(mdates.MinuteLocator(interval=10))\n",
    "ax.xaxis.set_major_formatter(datefmt)\n",
    "ax.xaxis.set_tick_params(labelrotation=90)\n",
    "\n",
    "ax.set_title('Eleições 2022 - Primeiro Turno - Porcentagem de votos válidos')\n",
    "ax.legend();"
   ]
  },
  {
   "cell_type": "code",
   "execution_count": null,
   "id": "alpine-multiple",
   "metadata": {},
   "outputs": [],
   "source": []
  },
  {
   "cell_type": "code",
   "execution_count": null,
   "id": "crazy-binary",
   "metadata": {},
   "outputs": [],
   "source": []
  },
  {
   "cell_type": "code",
   "execution_count": null,
   "id": "fancy-intention",
   "metadata": {},
   "outputs": [],
   "source": []
  },
  {
   "cell_type": "markdown",
   "id": "german-oliver",
   "metadata": {},
   "source": [
    "### Segundo turno - Totalização "
   ]
  },
  {
   "cell_type": "code",
   "execution_count": 63,
   "id": "cardiovascular-departure",
   "metadata": {},
   "outputs": [
    {
     "data": {
      "text/plain": [
       "Timedelta('0 days 07:17:13')"
      ]
     },
     "execution_count": 63,
     "metadata": {},
     "output_type": "execute_result"
    }
   ],
   "source": [
    "# dataframe totalização primeiro turno\n",
    "df_tot_2t = pd.read_csv(f_hist_pres_2t, sep=sep, encoding=enc, decimal=dec)\n",
    "df_tot_2t['data_hora'] = pd.to_datetime(df_tot_2t['DT_TOTALIZACAO     '], format='%d/%m/%Y %H:%M:%S') #\n",
    "df_tot_2t.set_index('data_hora', inplace=True)\n",
    "df_tot_2t.index.max() - df_tot_2t.index.min()"
   ]
  },
  {
   "cell_type": "code",
   "execution_count": 71,
   "id": "chief-restriction",
   "metadata": {},
   "outputs": [
    {
     "data": {
      "image/png": "[encoded data removed]",
      "text/plain": [
       "<Figure size 1080x576 with 1 Axes>"
      ]
     },
     "metadata": {
      "needs_background": "light"
     },
     "output_type": "display_data"
    }
   ],
   "source": [
    "df = df_tot_2t\n",
    "y1 = 'JAIR_BOLSONARO_PE_VOTOS_TOT_ACUMULADO        '\n",
    "y2 = 'LULA_PE_VOTOS_TOT_ACUMULADO                  '\n",
    "\n",
    "fig, ax = plt.subplots(figsize=(15,8))\n",
    "ax.plot(df.index, df[y1]*100,label='Bolsonaro')\n",
    "ax.plot(df.index, df[y2]*100, label='Lula')\n",
    "\n",
    "# ax.set_xlim([pd.to_datetime('2022-10-02 17:00:00'), pd.to_datetime('2022-10-03 00:10:00')]);\n",
    "datefmt = mdates.DateFormatter(\"%H:%M\")\n",
    "ax.xaxis.set_major_locator(mdates.MinuteLocator(interval=10))\n",
    "ax.xaxis.set_major_formatter(datefmt)\n",
    "ax.xaxis.set_tick_params(labelrotation=90)\n",
    "\n",
    "ax.set_title('Eleições 2022 - Primeiro Turno - Porcentagem de votos válidos')\n",
    "ax.legend();"
   ]
  },
  {
   "cell_type": "code",
   "execution_count": null,
   "id": "rotary-destruction",
   "metadata": {},
   "outputs": [],
   "source": []
  },
  {
   "cell_type": "code",
   "execution_count": null,
   "id": "5752ffdb",
   "metadata": {},
   "outputs": [],
   "source": []
  },
  {
   "cell_type": "code",
   "execution_count": null,
   "id": "compact-mistake",
   "metadata": {},
   "outputs": [],
   "source": []
  },
  {
   "cell_type": "markdown",
   "id": "atomic-librarian",
   "metadata": {},
   "source": [
    "### Votos por Seção - Primeiro Turno"
   ]
  },
  {
   "cell_type": "code",
   "execution_count": 76,
   "id": "practical-still",
   "metadata": {},
   "outputs": [
    {
     "data": {
      "text/plain": [
       "Index(['DT_GERACAO', 'HH_GERACAO', 'ANO_ELEICAO', 'CD_TIPO_ELEICAO',\n",
       "       'NM_TIPO_ELEICAO', 'NR_TURNO', 'CD_ELEICAO', 'DS_ELEICAO', 'DT_ELEICAO',\n",
       "       'TP_ABRANGENCIA', 'SG_UF', 'SG_UE', 'NM_UE', 'CD_MUNICIPIO',\n",
       "       'NM_MUNICIPIO', 'NR_ZONA', 'NR_SECAO', 'CD_CARGO', 'DS_CARGO',\n",
       "       'NR_VOTAVEL', 'NM_VOTAVEL', 'QT_VOTOS', 'NR_LOCAL_VOTACAO',\n",
       "       'SQ_CANDIDATO', 'NM_LOCAL_VOTACAO', 'DS_LOCAL_VOTACAO_ENDERECO'],\n",
       "      dtype='object')"
      ]
     },
     "execution_count": 76,
     "metadata": {},
     "output_type": "execute_result"
    }
   ],
   "source": [
    "# dataframe \n",
    "f_vot_secao = './tse_2022/votacao_secao_2022_BR/votacao_secao_2022_BR.csv'\n",
    "df_secao = pd.read_csv(f_vot_secao, sep=sep, encoding=enc, decimal=dec)\n",
    "df_secao.columns"
   ]
  },
  {
   "cell_type": "code",
   "execution_count": 83,
   "id": "israeli-hazard",
   "metadata": {},
   "outputs": [
    {
     "data": {
      "text/plain": [
       "5380736"
      ]
     },
     "execution_count": 83,
     "metadata": {},
     "output_type": "execute_result"
    }
   ],
   "source": [
    "len(df_secao)"
   ]
  },
  {
   "cell_type": "code",
   "execution_count": 104,
   "id": "active-beast",
   "metadata": {},
   "outputs": [
    {
     "data": {
      "text/plain": [
       "array(['LUIZ INÁCIO LULA DA SILVA', 'JOSE MARIA EYMAEL',\n",
       "       'LUIZ FELIPE CHAVES D AVILA', 'KELMON LUIS DA SILVA SOUZA',\n",
       "       'VOTO BRANCO', 'SORAYA VIEIRA THRONICKE', 'CIRO FERREIRA GOMES',\n",
       "       'SOFIA PADUA MANZANO', 'JAIR MESSIAS BOLSONARO',\n",
       "       'SIMONE NASSAR TEBET', 'LEONARDO PÉRICLES VIEIRA ROQUE',\n",
       "       'VOTO NULO', 'VERA LUCIA PEREIRA DA SILVA SALGADO'], dtype=object)"
      ]
     },
     "execution_count": 104,
     "metadata": {},
     "output_type": "execute_result"
    }
   ],
   "source": [
    "df_secao['NM_VOTAVEL'].unique()"
   ]
  },
  {
   "cell_type": "code",
   "execution_count": 105,
   "id": "chubby-hometown",
   "metadata": {},
   "outputs": [
    {
     "data": {
      "text/plain": [
       "3529844"
      ]
     },
     "execution_count": 105,
     "metadata": {},
     "output_type": "execute_result"
    }
   ],
   "source": [
    "# primeiro turno\n",
    "df_secao_1t = df_secao.query('NR_TURNO == 1')\n",
    "len(df_secao_1t)"
   ]
  },
  {
   "cell_type": "code",
   "execution_count": 132,
   "id": "another-reliance",
   "metadata": {},
   "outputs": [
    {
     "data": {
      "text/plain": [
       "array(['LUIZ INÁCIO LULA DA SILVA', 'JOSE MARIA EYMAEL',\n",
       "       'LUIZ FELIPE CHAVES D AVILA', 'KELMON LUIS DA SILVA SOUZA',\n",
       "       'VOTO BRANCO', 'SORAYA VIEIRA THRONICKE', 'CIRO FERREIRA GOMES',\n",
       "       'SOFIA PADUA MANZANO', 'JAIR MESSIAS BOLSONARO',\n",
       "       'SIMONE NASSAR TEBET', 'LEONARDO PÉRICLES VIEIRA ROQUE',\n",
       "       'VOTO NULO', 'VERA LUCIA PEREIRA DA SILVA SALGADO'], dtype=object)"
      ]
     },
     "execution_count": 132,
     "metadata": {},
     "output_type": "execute_result"
    }
   ],
   "source": [
    "df_secao_1t['NM_VOTAVEL'].unique()"
   ]
  },
  {
   "cell_type": "code",
   "execution_count": 124,
   "id": "greatest-tobago",
   "metadata": {},
   "outputs": [
    {
     "data": {
      "text/html": [
       "<div>\n",
       "<style scoped>\n",
       "    .dataframe tbody tr th:only-of-type {\n",
       "        vertical-align: middle;\n",
       "    }\n",
       "\n",
       "    .dataframe tbody tr th {\n",
       "        vertical-align: top;\n",
       "    }\n",
       "\n",
       "    .dataframe thead th {\n",
       "        text-align: right;\n",
       "    }\n",
       "</style>\n",
       "<table border=\"1\" class=\"dataframe\">\n",
       "  <thead>\n",
       "    <tr style=\"text-align: right;\">\n",
       "      <th></th>\n",
       "      <th>QT_VOTOS</th>\n",
       "    </tr>\n",
       "    <tr>\n",
       "      <th>NM_VOTAVEL</th>\n",
       "      <th></th>\n",
       "    </tr>\n",
       "  </thead>\n",
       "  <tbody>\n",
       "    <tr>\n",
       "      <th>LUIZ INÁCIO LULA DA SILVA</th>\n",
       "      <td>57259504</td>\n",
       "    </tr>\n",
       "    <tr>\n",
       "      <th>JAIR MESSIAS BOLSONARO</th>\n",
       "      <td>51072345</td>\n",
       "    </tr>\n",
       "    <tr>\n",
       "      <th>SIMONE NASSAR TEBET</th>\n",
       "      <td>4915423</td>\n",
       "    </tr>\n",
       "    <tr>\n",
       "      <th>CIRO FERREIRA GOMES</th>\n",
       "      <td>3599287</td>\n",
       "    </tr>\n",
       "    <tr>\n",
       "      <th>VOTO NULO</th>\n",
       "      <td>3487874</td>\n",
       "    </tr>\n",
       "    <tr>\n",
       "      <th>VOTO BRANCO</th>\n",
       "      <td>1964779</td>\n",
       "    </tr>\n",
       "    <tr>\n",
       "      <th>SORAYA VIEIRA THRONICKE</th>\n",
       "      <td>600955</td>\n",
       "    </tr>\n",
       "    <tr>\n",
       "      <th>LUIZ FELIPE CHAVES D AVILA</th>\n",
       "      <td>559708</td>\n",
       "    </tr>\n",
       "    <tr>\n",
       "      <th>KELMON LUIS DA SILVA SOUZA</th>\n",
       "      <td>81129</td>\n",
       "    </tr>\n",
       "    <tr>\n",
       "      <th>LEONARDO PÉRICLES VIEIRA ROQUE</th>\n",
       "      <td>53519</td>\n",
       "    </tr>\n",
       "    <tr>\n",
       "      <th>SOFIA PADUA MANZANO</th>\n",
       "      <td>45620</td>\n",
       "    </tr>\n",
       "    <tr>\n",
       "      <th>VERA LUCIA PEREIRA DA SILVA SALGADO</th>\n",
       "      <td>25625</td>\n",
       "    </tr>\n",
       "    <tr>\n",
       "      <th>JOSE MARIA EYMAEL</th>\n",
       "      <td>16604</td>\n",
       "    </tr>\n",
       "  </tbody>\n",
       "</table>\n",
       "</div>"
      ],
      "text/plain": [
       "                                     QT_VOTOS\n",
       "NM_VOTAVEL                                   \n",
       "LUIZ INÁCIO LULA DA SILVA            57259504\n",
       "JAIR MESSIAS BOLSONARO               51072345\n",
       "SIMONE NASSAR TEBET                   4915423\n",
       "CIRO FERREIRA GOMES                   3599287\n",
       "VOTO NULO                             3487874\n",
       "VOTO BRANCO                           1964779\n",
       "SORAYA VIEIRA THRONICKE                600955\n",
       "LUIZ FELIPE CHAVES D AVILA             559708\n",
       "KELMON LUIS DA SILVA SOUZA              81129\n",
       "LEONARDO PÉRICLES VIEIRA ROQUE          53519\n",
       "SOFIA PADUA MANZANO                     45620\n",
       "VERA LUCIA PEREIRA DA SILVA SALGADO     25625\n",
       "JOSE MARIA EYMAEL                       16604"
      ]
     },
     "execution_count": 124,
     "metadata": {},
     "output_type": "execute_result"
    }
   ],
   "source": [
    "# total de votos - primeiro turno\n",
    "df_secao_1t[['NM_VOTAVEL','QT_VOTOS']].groupby(['NM_VOTAVEL']).sum().sort_values(by='QT_VOTOS',ascending=False)"
   ]
  },
  {
   "cell_type": "code",
   "execution_count": null,
   "id": "parallel-debate",
   "metadata": {},
   "outputs": [],
   "source": []
  },
  {
   "cell_type": "markdown",
   "id": "martial-promise",
   "metadata": {},
   "source": [
    "### Votos por Seção - Segundo Turno"
   ]
  },
  {
   "cell_type": "code",
   "execution_count": 106,
   "id": "medieval-japanese",
   "metadata": {},
   "outputs": [
    {
     "data": {
      "text/plain": [
       "1850892"
      ]
     },
     "execution_count": 106,
     "metadata": {},
     "output_type": "execute_result"
    }
   ],
   "source": [
    "# segundo turno\n",
    "df_secao_2t = df_secao.query('NR_TURNO == 2')\n",
    "len(df_secao_2t)"
   ]
  },
  {
   "cell_type": "code",
   "execution_count": 110,
   "id": "7ba2afad",
   "metadata": {},
   "outputs": [
    {
     "data": {
      "text/plain": [
       "array(['LUIZ INÁCIO LULA DA SILVA', 'JAIR MESSIAS BOLSONARO', 'VOTO NULO',\n",
       "       'VOTO BRANCO'], dtype=object)"
      ]
     },
     "execution_count": 110,
     "metadata": {},
     "output_type": "execute_result"
    }
   ],
   "source": [
    "df_secao_2t['NM_VOTAVEL'].unique()"
   ]
  },
  {
   "cell_type": "code",
   "execution_count": 125,
   "id": "2bdd6171",
   "metadata": {},
   "outputs": [
    {
     "data": {
      "text/html": [
       "<div>\n",
       "<style scoped>\n",
       "    .dataframe tbody tr th:only-of-type {\n",
       "        vertical-align: middle;\n",
       "    }\n",
       "\n",
       "    .dataframe tbody tr th {\n",
       "        vertical-align: top;\n",
       "    }\n",
       "\n",
       "    .dataframe thead th {\n",
       "        text-align: right;\n",
       "    }\n",
       "</style>\n",
       "<table border=\"1\" class=\"dataframe\">\n",
       "  <thead>\n",
       "    <tr style=\"text-align: right;\">\n",
       "      <th></th>\n",
       "      <th>QT_VOTOS</th>\n",
       "    </tr>\n",
       "    <tr>\n",
       "      <th>NM_VOTAVEL</th>\n",
       "      <th></th>\n",
       "    </tr>\n",
       "  </thead>\n",
       "  <tbody>\n",
       "    <tr>\n",
       "      <th>LUIZ INÁCIO LULA DA SILVA</th>\n",
       "      <td>60345999</td>\n",
       "    </tr>\n",
       "    <tr>\n",
       "      <th>JAIR MESSIAS BOLSONARO</th>\n",
       "      <td>58206354</td>\n",
       "    </tr>\n",
       "    <tr>\n",
       "      <th>VOTO NULO</th>\n",
       "      <td>3930765</td>\n",
       "    </tr>\n",
       "    <tr>\n",
       "      <th>VOTO BRANCO</th>\n",
       "      <td>1769678</td>\n",
       "    </tr>\n",
       "  </tbody>\n",
       "</table>\n",
       "</div>"
      ],
      "text/plain": [
       "                           QT_VOTOS\n",
       "NM_VOTAVEL                         \n",
       "LUIZ INÁCIO LULA DA SILVA  60345999\n",
       "JAIR MESSIAS BOLSONARO     58206354\n",
       "VOTO NULO                   3930765\n",
       "VOTO BRANCO                 1769678"
      ]
     },
     "execution_count": 125,
     "metadata": {},
     "output_type": "execute_result"
    }
   ],
   "source": [
    "# total de votos - primeiro turno\n",
    "df_secao_2t[['NM_VOTAVEL','QT_VOTOS']].groupby(['NM_VOTAVEL']).sum().sort_values(by='QT_VOTOS',ascending=False)"
   ]
  },
  {
   "cell_type": "code",
   "execution_count": null,
   "id": "bigger-diagram",
   "metadata": {},
   "outputs": [],
   "source": []
  },
  {
   "cell_type": "code",
   "execution_count": null,
   "id": "previous-speech",
   "metadata": {},
   "outputs": [],
   "source": []
  },
  {
   "cell_type": "code",
   "execution_count": null,
   "id": "portuguese-syracuse",
   "metadata": {},
   "outputs": [],
   "source": []
  },
  {
   "cell_type": "markdown",
   "id": "fifteen-sherman",
   "metadata": {},
   "source": [
    "### Votos por Seção - estatística descritiva - Primeiro Turno"
   ]
  },
  {
   "cell_type": "code",
   "execution_count": 169,
   "id": "strong-horizontal",
   "metadata": {},
   "outputs": [
    {
     "data": {
      "text/plain": [
       "count    471863.000000\n",
       "mean        108.235537\n",
       "std          48.747558\n",
       "min           1.000000\n",
       "25%          73.000000\n",
       "50%         110.000000\n",
       "75%         143.000000\n",
       "max         535.000000\n",
       "Name: QT_VOTOS, dtype: float64"
      ]
     },
     "execution_count": 169,
     "metadata": {},
     "output_type": "execute_result"
    }
   ],
   "source": [
    "# JMB\n",
    "df_secao_1t_jmb = df_secao.query('NR_TURNO==1 and NR_VOTAVEL==22')\n",
    "df_secao_1t_jmb['QT_VOTOS'].describe()"
   ]
  },
  {
   "cell_type": "code",
   "execution_count": 170,
   "id": "metric-scale",
   "metadata": {
    "scrolled": true
   },
   "outputs": [
    {
     "data": {
      "text/plain": [
       "count    472023.000000\n",
       "mean        121.306597\n",
       "std          47.155582\n",
       "min           1.000000\n",
       "25%          86.000000\n",
       "50%         116.000000\n",
       "75%         152.000000\n",
       "max         513.000000\n",
       "Name: QT_VOTOS, dtype: float64"
      ]
     },
     "execution_count": 170,
     "metadata": {},
     "output_type": "execute_result"
    }
   ],
   "source": [
    "# LILS\n",
    "df_secao_1t_lils = df_secao.query('NR_TURNO==1 and NR_VOTAVEL==13')\n",
    "df_secao_1t_lils['QT_VOTOS'].describe()"
   ]
  },
  {
   "cell_type": "code",
   "execution_count": 190,
   "id": "continued-respondent",
   "metadata": {
    "scrolled": true
   },
   "outputs": [
    {
     "data": {
      "image/png": "[encoded data removed]",
      "text/plain": [
       "<Figure size 864x360 with 2 Axes>"
      ]
     },
     "metadata": {
      "needs_background": "light"
     },
     "output_type": "display_data"
    }
   ],
   "source": [
    "fig, axs = plt.subplots(1, 2, sharey=True, figsize=(12,5))\n",
    "axs[0].hist(df_secao_1t_jmb['QT_VOTOS'], bins=100);\n",
    "axs[1].hist(df_secao_1t_lils['QT_VOTOS'], bins=100);"
   ]
  },
  {
   "cell_type": "code",
   "execution_count": null,
   "id": "yellow-football",
   "metadata": {},
   "outputs": [],
   "source": []
  },
  {
   "cell_type": "markdown",
   "id": "sonic-coupon",
   "metadata": {},
   "source": [
    "### Votos por Seção - estatística descritiva - Segundo Turno"
   ]
  },
  {
   "cell_type": "code",
   "execution_count": 173,
   "id": "ordinary-enlargement",
   "metadata": {},
   "outputs": [
    {
     "data": {
      "text/plain": [
       "count    471884.000000\n",
       "mean        123.348861\n",
       "std          54.608497\n",
       "min           1.000000\n",
       "25%          84.000000\n",
       "50%         127.000000\n",
       "75%         162.000000\n",
       "max         549.000000\n",
       "Name: QT_VOTOS, dtype: float64"
      ]
     },
     "execution_count": 173,
     "metadata": {},
     "output_type": "execute_result"
    }
   ],
   "source": [
    "# JMB\n",
    "df_secao_2t_jmb = df_secao.query('NR_TURNO==2 and NR_VOTAVEL==22')\n",
    "df_secao_2t_jmb['QT_VOTOS'].describe()"
   ]
  },
  {
   "cell_type": "code",
   "execution_count": 174,
   "id": "assigned-dining",
   "metadata": {
    "scrolled": true
   },
   "outputs": [
    {
     "data": {
      "text/plain": [
       "count    472023.000000\n",
       "mean        127.845463\n",
       "std          48.249222\n",
       "min           1.000000\n",
       "25%          92.000000\n",
       "50%         123.000000\n",
       "75%         160.000000\n",
       "max         530.000000\n",
       "Name: QT_VOTOS, dtype: float64"
      ]
     },
     "execution_count": 174,
     "metadata": {},
     "output_type": "execute_result"
    }
   ],
   "source": [
    "# LILS\n",
    "df_secao_2t_lils = df_secao.query('NR_TURNO==2 and NR_VOTAVEL==13')\n",
    "df_secao_2t_lils['QT_VOTOS'].describe()"
   ]
  },
  {
   "cell_type": "code",
   "execution_count": 191,
   "id": "worse-local",
   "metadata": {},
   "outputs": [
    {
     "data": {
      "image/png": "[encoded data removed]",
      "text/plain": [
       "<Figure size 864x360 with 2 Axes>"
      ]
     },
     "metadata": {
      "needs_background": "light"
     },
     "output_type": "display_data"
    }
   ],
   "source": [
    "fig, axs = plt.subplots(1, 2, sharey=True, figsize=(12,5))\n",
    "axs[0].hist(df_secao_2t_jmb['QT_VOTOS'], bins=100);\n",
    "axs[1].hist(df_secao_2t_lils['QT_VOTOS'], bins=100);"
   ]
  },
  {
   "cell_type": "code",
   "execution_count": null,
   "id": "approximate-construction",
   "metadata": {},
   "outputs": [],
   "source": []
  },
  {
   "cell_type": "code",
   "execution_count": null,
   "id": "acquired-guatemala",
   "metadata": {},
   "outputs": [],
   "source": []
  },
  {
   "cell_type": "code",
   "execution_count": null,
   "id": "liberal-plasma",
   "metadata": {},
   "outputs": [],
   "source": []
  },
  {
   "cell_type": "code",
   "execution_count": null,
   "id": "severe-vegetable",
   "metadata": {},
   "outputs": [],
   "source": []
  },
  {
   "cell_type": "code",
   "execution_count": null,
   "id": "outstanding-motor",
   "metadata": {},
   "outputs": [],
   "source": []
  },
  {
   "cell_type": "code",
   "execution_count": null,
   "id": "important-nevada",
   "metadata": {},
   "outputs": [],
   "source": []
  },
  {
   "cell_type": "code",
   "execution_count": null,
   "id": "proper-beatles",
   "metadata": {},
   "outputs": [],
   "source": []
  },
  {
   "cell_type": "code",
   "execution_count": null,
   "id": "reduced-utility",
   "metadata": {},
   "outputs": [],
   "source": []
  },
  {
   "cell_type": "code",
   "execution_count": null,
   "id": "f96390dd",
   "metadata": {},
   "outputs": [],
   "source": []
  }
 ],
 "metadata": {
  "kernelspec": {
   "display_name": "Python 3",
   "language": "python",
   "name": "python3"
  },
  "language_info": {
   "codemirror_mode": {
    "name": "ipython",
    "version": 3
   },
   "file_extension": ".py",
   "mimetype": "text/x-python",
   "name": "python",
   "nbconvert_exporter": "python",
   "pygments_lexer": "ipython3",
   "version": "3.8.10"
  }
 },
 "nbformat": 4,
 "nbformat_minor": 5
}
